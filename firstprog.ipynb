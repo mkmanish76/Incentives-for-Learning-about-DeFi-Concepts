{
  "nbformat": 4,
  "nbformat_minor": 0,
  "metadata": {
    "colab": {
      "provenance": [],
      "toc_visible": true,
      "authorship_tag": "ABX9TyOddzE/JnDVje2ufA1kSkqA",
      "include_colab_link": true
    },
    "kernelspec": {
      "name": "python3",
      "display_name": "Python 3"
    },
    "language_info": {
      "name": "python"
    }
  },
  "cells": [
    {
      "cell_type": "markdown",
      "metadata": {
        "id": "view-in-github",
        "colab_type": "text"
      },
      "source": [
        "<a href=\"https://colab.research.google.com/github/mkmanish76/Incentives-for-Learning-about-DeFi-Concepts/blob/main/firstprog.ipynb\" target=\"_parent\"><img src=\"https://colab.research.google.com/assets/colab-badge.svg\" alt=\"Open In Colab\"/></a>"
      ]
    },
    {
      "cell_type": "code",
      "source": [
        "X = 60\n",
        "Y = 48\n",
        "\n",
        "if X > Y:\n",
        "    small = Y\n",
        "else:\n",
        "    small = X\n",
        "\n",
        "for i in range(1, small + 1):\n",
        "    # Indented this line to be part of the for loop\n",
        "    if (X % i == 0) and (Y % i == 0):\n",
        "        gcd = i\n",
        "print(\"The gcd of 60 and 48 is :\", gcd) # Also indented for readability"
      ],
      "metadata": {
        "colab": {
          "base_uri": "https://localhost:8080/"
        },
        "id": "wXrwOMP5CdhH",
        "outputId": "b1e21a27-f59e-4592-b644-c226bc0ea4dc"
      },
      "execution_count": null,
      "outputs": [
        {
          "output_type": "stream",
          "name": "stdout",
          "text": [
            "The gcd of 60 and 48 is : 12\n"
          ]
        }
      ]
    }
  ]
}